{
  "nbformat": 4,
  "nbformat_minor": 0,
  "metadata": {
    "colab": {
      "provenance": []
    },
    "kernelspec": {
      "name": "python3",
      "display_name": "Python 3"
    },
    "language_info": {
      "name": "python"
    }
  },
  "cells": [
    {
      "cell_type": "code",
      "execution_count": 4,
      "metadata": {
        "colab": {
          "base_uri": "https://localhost:8080/"
        },
        "id": "dBIIwlKj8C0O",
        "outputId": "d83b3d07-8703-4bda-8c5e-848c42cc7c76"
      },
      "outputs": [
        {
          "output_type": "stream",
          "name": "stdout",
          "text": [
            "Enter the quantity of Product A: 1\n",
            "Is Product A wrapped as a gift? (yes/no): yes\n",
            "Enter the quantity of Product B: 1\n",
            "Is Product B wrapped as a gift? (yes/no): yes\n",
            "Enter the quantity of Product C: 1\n",
            "Is Product C wrapped as a gift? (yes/no): yes\n",
            "\n",
            "Order Summary:\n",
            "Product A: 1 units\n",
            "Product B: 1 units\n",
            "Product C: 1 units\n",
            "\n",
            "Subtotal: $110\n",
            "Discount: $0\n",
            "Gift Wrap Fee: $3\n",
            "Shipping Fee: $0\n",
            "Total: $113\n"
          ]
        }
      ],
      "source": [
        "# Catalogue\n",
        "catalogue = {\n",
        "    \"Product A\": 20,\n",
        "    \"Product B\": 40,\n",
        "    \"Product C\": 50\n",
        "}\n",
        "\n",
        "# Discount Rules\n",
        "disc_rules = {\n",
        "    \"flat_10_discount\": 200,\n",
        "    \"bulk_5_discount\": 10,\n",
        "    \"bulk_10_discount\": 20,\n",
        "    \"tiered_50_discount\": 30\n",
        "}\n",
        "\n",
        "# Fees\n",
        "gift_wrap_fee = 1\n",
        "shipping_fee_per_package = 5\n",
        "units_per_package = 10\n",
        "\n",
        "# Function to calculate the discount amount\n",
        "def calculate_discount(quantity, price):\n",
        "    discount = 0\n",
        "\n",
        "    if quantity > disc_rules[\"bulk_5_discount\"]:\n",
        "        discount = price * 0.05\n",
        "\n",
        "    if quantity > disc_rules[\"bulk_10_discount\"]:\n",
        "        discount = price * 0.1\n",
        "\n",
        "    if quantity > disc_rules[\"tiered_50_discount\"]:\n",
        "        discount = (quantity - disc_rules[\"tiered_50_discount\"]) * price * 0.5\n",
        "\n",
        "    return discount\n",
        "\n",
        "# Function to calculate the total amount\n",
        "def total(products):\n",
        "    subtotal = 0\n",
        "    total_discount = 0\n",
        "    total_gift_wrap_fee = 0\n",
        "    total_shipping_fee = 0\n",
        "\n",
        "    for product, quantity, gift_wrap in products:\n",
        "        price = catalogue[product]\n",
        "        total_amount = price * quantity\n",
        "        discount = calculate_discount(quantity, price)\n",
        "        subtotal += total_amount\n",
        "        total_discount += discount\n",
        "\n",
        "        if gift_wrap:\n",
        "            total_gift_wrap_fee += gift_wrap_fee * quantity\n",
        "\n",
        "        total_shipping_fee += (quantity // units_per_package) * shipping_fee_per_package\n",
        "\n",
        "    total = subtotal - total_discount + total_gift_wrap_fee + total_shipping_fee\n",
        "\n",
        "    return subtotal, total_discount, total_gift_wrap_fee, total_shipping_fee, total\n",
        "\n",
        "# Main program\n",
        "products = []\n",
        "\n",
        "for product, price in catalogue.items():\n",
        "    quantity = int(input(f\"Enter the quantity of {product}: \"))\n",
        "    gift_wrap = input(f\"Is {product} wrapped as a gift? (yes/no): \").lower() == \"yes\"\n",
        "    products.append((product, quantity, gift_wrap))\n",
        "\n",
        "subtotal, total_discount, total_gift_wrap_fee, total_shipping_fee, total = total(products)\n",
        "\n",
        "print(\"\\nOrder Summary:\")\n",
        "for product, quantity, _ in products:\n",
        "    print(f\"{product}: {quantity} units\")\n",
        "\n",
        "print(f\"\\nSubtotal: ${subtotal}\")\n",
        "print(f\"Discount: ${total_discount}\")\n",
        "print(f\"Gift Wrap Fee: ${total_gift_wrap_fee}\")\n",
        "print(f\"Shipping Fee: ${total_shipping_fee}\")\n",
        "print(f\"Total: ${total}\")\n"
      ]
    }
  ]
}